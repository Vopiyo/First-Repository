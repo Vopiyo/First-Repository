{
  "nbformat": 4,
  "nbformat_minor": 0,
  "metadata": {
    "colab": {
      "provenance": [],
      "authorship_tag": "ABX9TyN7la5FPGCgvcmQpwTnS3zz",
      "include_colab_link": true
    },
    "kernelspec": {
      "name": "python3",
      "display_name": "Python 3"
    },
    "language_info": {
      "name": "python"
    }
  },
  "cells": [
    {
      "cell_type": "markdown",
      "metadata": {
        "id": "view-in-github",
        "colab_type": "text"
      },
      "source": [
        "<a href=\"https://colab.research.google.com/github/Vopiyo/First-Repository/blob/main/Travel_Aggregator.ipynb\" target=\"_parent\"><img src=\"https://colab.research.google.com/assets/colab-badge.svg\" alt=\"Open In Colab\"/></a>"
      ]
    },
    {
      "cell_type": "markdown",
      "source": [
        "# **Scenario**\n",
        "\n",
        "Travelling has significantly changed thanks to technology. In the earlier days, it was not easy to travel as booking journeys used to be a hassle, where people needed to contact travel agents, get prices and then do a lot of paperwork.\n",
        "But, with the advent of online apps, it becomes easier to book tickets. However, one challenge is still there. Due to many available apps which offer bookings, there can be a lot of comparisons for getting the best price.\n",
        "A new Indian start-up, \"MyNextBooking” is an aggregator on top of the available top platforms (Yatra, MMT, Goibibo). It helps the user compare prices for their upcoming journeys on its platform and the customer is redirected to the desired platform after looking at the price.\n",
        "However, they need to do a lot of analysis of the data which they have collected over a while.\n",
        "As a newly hired analyst and proficiency in Python, your role is to help them perform an in- depth analysis.\n",
        "\n",
        "**Objective: Please provide answers to the following questions:**\n",
        "\n",
        "1) Find the number of distinct bookings, sessions, and searches from the given data sets.\n",
        "\n",
        "2) How many sessions have more than one booking?\n",
        "\n",
        "3) Which days of the week have the highest number of bookings? Also, draw a pie chart to show the distribution for all days of the week?\n",
        "\n",
        "4) For each of the service names, display the total number of bookings and the total Gross Booking Value in INR.\n",
        "\n",
        "5) For customers who have more than 1 booking, which is the most booked route (from_city to to_city)?\n",
        "\n",
        "6) Which are the top 3 departure cities from where customers book mostly in advance, provided that there have been at least 5 departures from that city?\n",
        "\n",
        "7) Plot a heatmap displaying correlations of the numerical column and report which pair of numerical columns in the bookings data set, have the maximum correlation?\n",
        "\n",
        "8) For each service, which is the most used device type for making bookings on the platform?\n",
        "\n",
        "9) Plot the trends at a quarterly frequency for the number of bookings by each of the device types, that is, plot a time series for each year and quarter showing the number of bookings performed by each device type.\n",
        "\n",
        "10) Consider the following example:\n",
        "\n",
        "12 customers performed a total of 100 searches but only a few of them performed 10 bookings in total.\n",
        "Searches = 100 bookings = 10 customers = 12\n",
        "\n",
        "The overall booking to search ratio, Ober, is 10/100 = 0.1 Using the above information/context, answer the following:\n",
        "\n",
        "• What is the average oBSR for each month of the year?\n",
        "\n",
        "• What is the average oBSR for each day of the week?\n",
        "\n",
        "• Plot a time series of oBSR on all the given dates."
      ],
      "metadata": {
        "id": "fwmKgpLrmUYF"
      }
    },
    {
      "cell_type": "markdown",
      "source": [
        "# **About the Data**"
      ],
      "metadata": {
        "id": "aHKQGC0KplCK"
      }
    },
    {
      "cell_type": "markdown",
      "source": [
        "The data provided consists of the following two files:\n",
        "\n",
        "**1) Bookings.csv**\n",
        "\n",
        "• customer_id\n",
        "\n",
        "• booking_id\n",
        "\n",
        "• from_city\n",
        "\n",
        "• from_country\n",
        "\n",
        "• to_city\n",
        "\n",
        "• to_country\n",
        "\n",
        "• booking_time\n",
        "\n",
        "• device_type_used\n",
        "\n",
        "• INR_Amount\n",
        "\n",
        "• service_name\n",
        "\n",
        "• no_of_passengers\n",
        "\n",
        "• days_to_departure\n",
        "\n",
        "• distance_km\n",
        "\n",
        "**2) Sessions.csv**\n",
        "\n",
        "• session_id\n",
        "\n",
        "• search_id\n",
        "\n",
        "• search_time\n",
        "\n",
        "• session_starting_time\n",
        "\n",
        "• booking_id"
      ],
      "metadata": {
        "id": "UqjLDoksn10U"
      }
    },
    {
      "cell_type": "markdown",
      "source": [
        "# 1. Distinct Bookings, Sessions, and Searches\n",
        "To find the number of distinct bookings, sessions, and searches from the datasets, I use Python with libraries like pandas as shown below:"
      ],
      "metadata": {
        "id": "8HuXMavw7KPx"
      }
    },
    {
      "cell_type": "code",
      "execution_count": null,
      "metadata": {
        "colab": {
          "base_uri": "https://localhost:8080/"
        },
        "id": "-sNY0bGD6iGX",
        "outputId": "16de22ce-3efc-44a9-9ab8-a78038480e97"
      },
      "outputs": [
        {
          "output_type": "stream",
          "name": "stdout",
          "text": [
            "Distinct Bookings: 339, Distinct Sessions: 331, Distinct Searches: 1360\n"
          ]
        }
      ],
      "source": [
        "import pandas as pd\n",
        "\n",
        "# Load the datasets\n",
        "bookings = pd.read_csv('Bookings.csv')\n",
        "sessions = pd.read_csv('Sessions.csv')\n",
        "\n",
        "# Calculate distinct values\n",
        "distinct_bookings = bookings['booking_id'].nunique()\n",
        "distinct_sessions = sessions['session_id'].nunique()\n",
        "distinct_searches = sessions['search_id'].nunique()\n",
        "\n",
        "print(f\"Distinct Bookings: {distinct_bookings}, Distinct Sessions: {distinct_sessions}, Distinct Searches: {distinct_searches}\")"
      ]
    },
    {
      "cell_type": "code",
      "source": [
        "bookings.head()"
      ],
      "metadata": {
        "colab": {
          "base_uri": "https://localhost:8080/",
          "height": 313
        },
        "id": "xtWHol4X77Zg",
        "outputId": "2536cf6e-1466-4ff4-a09f-a7eeaf4eeae1"
      },
      "execution_count": null,
      "outputs": [
        {
          "output_type": "execute_result",
          "data": {
            "text/plain": [
              "    customer_id   booking_id   from_city from_country            to_city  \\\n",
              "0  customer_259   booking_82     Gurgaon        India          Ahmedabad   \n",
              "1  customer_303  booking_156       Delhi        India           Brussels   \n",
              "2  customer_203   booking_99  Devanhalli        India  Frankfurt am Main   \n",
              "3  customer_211  booking_319     Gurgaon        India  Frankfurt am Main   \n",
              "4  customer_287  booking_222     Gurgaon        India   Roissy-en-France   \n",
              "\n",
              "  to_country          booking_time device_type_used  INR_Amount service_name  \\\n",
              "0      India  2020-02-05T16:12:08Z          Desktop     2565.28          MMT   \n",
              "1    Belgium  2018-11-21T08:21:47Z          Android    23120.00        YATRA   \n",
              "2    Germany  2019-12-16T22:54:58Z          Android    25717.60        YATRA   \n",
              "3    Germany  2021-10-29T12:25:38Z          Desktop   135969.60      GOIBIBO   \n",
              "4     France  2020-08-11T16:09:10Z          Android    31791.20      GOIBIBO   \n",
              "\n",
              "   no_of_passengers  days_to_departure  distance_km  \n",
              "0               1.0               10.0        747.8  \n",
              "1               1.0                1.0       6701.5  \n",
              "2               1.0               32.0       7712.0  \n",
              "3               2.0               69.0       6112.5  \n",
              "4               1.0                3.0       6570.4  "
            ],
            "text/html": [
              "\n",
              "  <div id=\"df-6fff2e37-51bf-4118-aa6e-a166b715e1c5\" class=\"colab-df-container\">\n",
              "    <div>\n",
              "<style scoped>\n",
              "    .dataframe tbody tr th:only-of-type {\n",
              "        vertical-align: middle;\n",
              "    }\n",
              "\n",
              "    .dataframe tbody tr th {\n",
              "        vertical-align: top;\n",
              "    }\n",
              "\n",
              "    .dataframe thead th {\n",
              "        text-align: right;\n",
              "    }\n",
              "</style>\n",
              "<table border=\"1\" class=\"dataframe\">\n",
              "  <thead>\n",
              "    <tr style=\"text-align: right;\">\n",
              "      <th></th>\n",
              "      <th>customer_id</th>\n",
              "      <th>booking_id</th>\n",
              "      <th>from_city</th>\n",
              "      <th>from_country</th>\n",
              "      <th>to_city</th>\n",
              "      <th>to_country</th>\n",
              "      <th>booking_time</th>\n",
              "      <th>device_type_used</th>\n",
              "      <th>INR_Amount</th>\n",
              "      <th>service_name</th>\n",
              "      <th>no_of_passengers</th>\n",
              "      <th>days_to_departure</th>\n",
              "      <th>distance_km</th>\n",
              "    </tr>\n",
              "  </thead>\n",
              "  <tbody>\n",
              "    <tr>\n",
              "      <th>0</th>\n",
              "      <td>customer_259</td>\n",
              "      <td>booking_82</td>\n",
              "      <td>Gurgaon</td>\n",
              "      <td>India</td>\n",
              "      <td>Ahmedabad</td>\n",
              "      <td>India</td>\n",
              "      <td>2020-02-05T16:12:08Z</td>\n",
              "      <td>Desktop</td>\n",
              "      <td>2565.28</td>\n",
              "      <td>MMT</td>\n",
              "      <td>1.0</td>\n",
              "      <td>10.0</td>\n",
              "      <td>747.8</td>\n",
              "    </tr>\n",
              "    <tr>\n",
              "      <th>1</th>\n",
              "      <td>customer_303</td>\n",
              "      <td>booking_156</td>\n",
              "      <td>Delhi</td>\n",
              "      <td>India</td>\n",
              "      <td>Brussels</td>\n",
              "      <td>Belgium</td>\n",
              "      <td>2018-11-21T08:21:47Z</td>\n",
              "      <td>Android</td>\n",
              "      <td>23120.00</td>\n",
              "      <td>YATRA</td>\n",
              "      <td>1.0</td>\n",
              "      <td>1.0</td>\n",
              "      <td>6701.5</td>\n",
              "    </tr>\n",
              "    <tr>\n",
              "      <th>2</th>\n",
              "      <td>customer_203</td>\n",
              "      <td>booking_99</td>\n",
              "      <td>Devanhalli</td>\n",
              "      <td>India</td>\n",
              "      <td>Frankfurt am Main</td>\n",
              "      <td>Germany</td>\n",
              "      <td>2019-12-16T22:54:58Z</td>\n",
              "      <td>Android</td>\n",
              "      <td>25717.60</td>\n",
              "      <td>YATRA</td>\n",
              "      <td>1.0</td>\n",
              "      <td>32.0</td>\n",
              "      <td>7712.0</td>\n",
              "    </tr>\n",
              "    <tr>\n",
              "      <th>3</th>\n",
              "      <td>customer_211</td>\n",
              "      <td>booking_319</td>\n",
              "      <td>Gurgaon</td>\n",
              "      <td>India</td>\n",
              "      <td>Frankfurt am Main</td>\n",
              "      <td>Germany</td>\n",
              "      <td>2021-10-29T12:25:38Z</td>\n",
              "      <td>Desktop</td>\n",
              "      <td>135969.60</td>\n",
              "      <td>GOIBIBO</td>\n",
              "      <td>2.0</td>\n",
              "      <td>69.0</td>\n",
              "      <td>6112.5</td>\n",
              "    </tr>\n",
              "    <tr>\n",
              "      <th>4</th>\n",
              "      <td>customer_287</td>\n",
              "      <td>booking_222</td>\n",
              "      <td>Gurgaon</td>\n",
              "      <td>India</td>\n",
              "      <td>Roissy-en-France</td>\n",
              "      <td>France</td>\n",
              "      <td>2020-08-11T16:09:10Z</td>\n",
              "      <td>Android</td>\n",
              "      <td>31791.20</td>\n",
              "      <td>GOIBIBO</td>\n",
              "      <td>1.0</td>\n",
              "      <td>3.0</td>\n",
              "      <td>6570.4</td>\n",
              "    </tr>\n",
              "  </tbody>\n",
              "</table>\n",
              "</div>\n",
              "    <div class=\"colab-df-buttons\">\n",
              "\n",
              "  <div class=\"colab-df-container\">\n",
              "    <button class=\"colab-df-convert\" onclick=\"convertToInteractive('df-6fff2e37-51bf-4118-aa6e-a166b715e1c5')\"\n",
              "            title=\"Convert this dataframe to an interactive table.\"\n",
              "            style=\"display:none;\">\n",
              "\n",
              "  <svg xmlns=\"http://www.w3.org/2000/svg\" height=\"24px\" viewBox=\"0 -960 960 960\">\n",
              "    <path d=\"M120-120v-720h720v720H120Zm60-500h600v-160H180v160Zm220 220h160v-160H400v160Zm0 220h160v-160H400v160ZM180-400h160v-160H180v160Zm440 0h160v-160H620v160ZM180-180h160v-160H180v160Zm440 0h160v-160H620v160Z\"/>\n",
              "  </svg>\n",
              "    </button>\n",
              "\n",
              "  <style>\n",
              "    .colab-df-container {\n",
              "      display:flex;\n",
              "      gap: 12px;\n",
              "    }\n",
              "\n",
              "    .colab-df-convert {\n",
              "      background-color: #E8F0FE;\n",
              "      border: none;\n",
              "      border-radius: 50%;\n",
              "      cursor: pointer;\n",
              "      display: none;\n",
              "      fill: #1967D2;\n",
              "      height: 32px;\n",
              "      padding: 0 0 0 0;\n",
              "      width: 32px;\n",
              "    }\n",
              "\n",
              "    .colab-df-convert:hover {\n",
              "      background-color: #E2EBFA;\n",
              "      box-shadow: 0px 1px 2px rgba(60, 64, 67, 0.3), 0px 1px 3px 1px rgba(60, 64, 67, 0.15);\n",
              "      fill: #174EA6;\n",
              "    }\n",
              "\n",
              "    .colab-df-buttons div {\n",
              "      margin-bottom: 4px;\n",
              "    }\n",
              "\n",
              "    [theme=dark] .colab-df-convert {\n",
              "      background-color: #3B4455;\n",
              "      fill: #D2E3FC;\n",
              "    }\n",
              "\n",
              "    [theme=dark] .colab-df-convert:hover {\n",
              "      background-color: #434B5C;\n",
              "      box-shadow: 0px 1px 3px 1px rgba(0, 0, 0, 0.15);\n",
              "      filter: drop-shadow(0px 1px 2px rgba(0, 0, 0, 0.3));\n",
              "      fill: #FFFFFF;\n",
              "    }\n",
              "  </style>\n",
              "\n",
              "    <script>\n",
              "      const buttonEl =\n",
              "        document.querySelector('#df-6fff2e37-51bf-4118-aa6e-a166b715e1c5 button.colab-df-convert');\n",
              "      buttonEl.style.display =\n",
              "        google.colab.kernel.accessAllowed ? 'block' : 'none';\n",
              "\n",
              "      async function convertToInteractive(key) {\n",
              "        const element = document.querySelector('#df-6fff2e37-51bf-4118-aa6e-a166b715e1c5');\n",
              "        const dataTable =\n",
              "          await google.colab.kernel.invokeFunction('convertToInteractive',\n",
              "                                                    [key], {});\n",
              "        if (!dataTable) return;\n",
              "\n",
              "        const docLinkHtml = 'Like what you see? Visit the ' +\n",
              "          '<a target=\"_blank\" href=https://colab.research.google.com/notebooks/data_table.ipynb>data table notebook</a>'\n",
              "          + ' to learn more about interactive tables.';\n",
              "        element.innerHTML = '';\n",
              "        dataTable['output_type'] = 'display_data';\n",
              "        await google.colab.output.renderOutput(dataTable, element);\n",
              "        const docLink = document.createElement('div');\n",
              "        docLink.innerHTML = docLinkHtml;\n",
              "        element.appendChild(docLink);\n",
              "      }\n",
              "    </script>\n",
              "  </div>\n",
              "\n",
              "\n",
              "<div id=\"df-5b6cf4fe-3c9c-47c2-ac58-a6ef6392bcdd\">\n",
              "  <button class=\"colab-df-quickchart\" onclick=\"quickchart('df-5b6cf4fe-3c9c-47c2-ac58-a6ef6392bcdd')\"\n",
              "            title=\"Suggest charts\"\n",
              "            style=\"display:none;\">\n",
              "\n",
              "<svg xmlns=\"http://www.w3.org/2000/svg\" height=\"24px\"viewBox=\"0 0 24 24\"\n",
              "     width=\"24px\">\n",
              "    <g>\n",
              "        <path d=\"M19 3H5c-1.1 0-2 .9-2 2v14c0 1.1.9 2 2 2h14c1.1 0 2-.9 2-2V5c0-1.1-.9-2-2-2zM9 17H7v-7h2v7zm4 0h-2V7h2v10zm4 0h-2v-4h2v4z\"/>\n",
              "    </g>\n",
              "</svg>\n",
              "  </button>\n",
              "\n",
              "<style>\n",
              "  .colab-df-quickchart {\n",
              "      --bg-color: #E8F0FE;\n",
              "      --fill-color: #1967D2;\n",
              "      --hover-bg-color: #E2EBFA;\n",
              "      --hover-fill-color: #174EA6;\n",
              "      --disabled-fill-color: #AAA;\n",
              "      --disabled-bg-color: #DDD;\n",
              "  }\n",
              "\n",
              "  [theme=dark] .colab-df-quickchart {\n",
              "      --bg-color: #3B4455;\n",
              "      --fill-color: #D2E3FC;\n",
              "      --hover-bg-color: #434B5C;\n",
              "      --hover-fill-color: #FFFFFF;\n",
              "      --disabled-bg-color: #3B4455;\n",
              "      --disabled-fill-color: #666;\n",
              "  }\n",
              "\n",
              "  .colab-df-quickchart {\n",
              "    background-color: var(--bg-color);\n",
              "    border: none;\n",
              "    border-radius: 50%;\n",
              "    cursor: pointer;\n",
              "    display: none;\n",
              "    fill: var(--fill-color);\n",
              "    height: 32px;\n",
              "    padding: 0;\n",
              "    width: 32px;\n",
              "  }\n",
              "\n",
              "  .colab-df-quickchart:hover {\n",
              "    background-color: var(--hover-bg-color);\n",
              "    box-shadow: 0 1px 2px rgba(60, 64, 67, 0.3), 0 1px 3px 1px rgba(60, 64, 67, 0.15);\n",
              "    fill: var(--button-hover-fill-color);\n",
              "  }\n",
              "\n",
              "  .colab-df-quickchart-complete:disabled,\n",
              "  .colab-df-quickchart-complete:disabled:hover {\n",
              "    background-color: var(--disabled-bg-color);\n",
              "    fill: var(--disabled-fill-color);\n",
              "    box-shadow: none;\n",
              "  }\n",
              "\n",
              "  .colab-df-spinner {\n",
              "    border: 2px solid var(--fill-color);\n",
              "    border-color: transparent;\n",
              "    border-bottom-color: var(--fill-color);\n",
              "    animation:\n",
              "      spin 1s steps(1) infinite;\n",
              "  }\n",
              "\n",
              "  @keyframes spin {\n",
              "    0% {\n",
              "      border-color: transparent;\n",
              "      border-bottom-color: var(--fill-color);\n",
              "      border-left-color: var(--fill-color);\n",
              "    }\n",
              "    20% {\n",
              "      border-color: transparent;\n",
              "      border-left-color: var(--fill-color);\n",
              "      border-top-color: var(--fill-color);\n",
              "    }\n",
              "    30% {\n",
              "      border-color: transparent;\n",
              "      border-left-color: var(--fill-color);\n",
              "      border-top-color: var(--fill-color);\n",
              "      border-right-color: var(--fill-color);\n",
              "    }\n",
              "    40% {\n",
              "      border-color: transparent;\n",
              "      border-right-color: var(--fill-color);\n",
              "      border-top-color: var(--fill-color);\n",
              "    }\n",
              "    60% {\n",
              "      border-color: transparent;\n",
              "      border-right-color: var(--fill-color);\n",
              "    }\n",
              "    80% {\n",
              "      border-color: transparent;\n",
              "      border-right-color: var(--fill-color);\n",
              "      border-bottom-color: var(--fill-color);\n",
              "    }\n",
              "    90% {\n",
              "      border-color: transparent;\n",
              "      border-bottom-color: var(--fill-color);\n",
              "    }\n",
              "  }\n",
              "</style>\n",
              "\n",
              "  <script>\n",
              "    async function quickchart(key) {\n",
              "      const quickchartButtonEl =\n",
              "        document.querySelector('#' + key + ' button');\n",
              "      quickchartButtonEl.disabled = true;  // To prevent multiple clicks.\n",
              "      quickchartButtonEl.classList.add('colab-df-spinner');\n",
              "      try {\n",
              "        const charts = await google.colab.kernel.invokeFunction(\n",
              "            'suggestCharts', [key], {});\n",
              "      } catch (error) {\n",
              "        console.error('Error during call to suggestCharts:', error);\n",
              "      }\n",
              "      quickchartButtonEl.classList.remove('colab-df-spinner');\n",
              "      quickchartButtonEl.classList.add('colab-df-quickchart-complete');\n",
              "    }\n",
              "    (() => {\n",
              "      let quickchartButtonEl =\n",
              "        document.querySelector('#df-5b6cf4fe-3c9c-47c2-ac58-a6ef6392bcdd button');\n",
              "      quickchartButtonEl.style.display =\n",
              "        google.colab.kernel.accessAllowed ? 'block' : 'none';\n",
              "    })();\n",
              "  </script>\n",
              "</div>\n",
              "\n",
              "    </div>\n",
              "  </div>\n"
            ],
            "application/vnd.google.colaboratory.intrinsic+json": {
              "type": "dataframe",
              "variable_name": "bookings",
              "summary": "{\n  \"name\": \"bookings\",\n  \"rows\": 339,\n  \"fields\": [\n    {\n      \"column\": \"customer_id\",\n      \"properties\": {\n        \"dtype\": \"string\",\n        \"num_unique_values\": 306,\n        \"samples\": [\n          \"customer_162\",\n          \"customer_143\",\n          \"customer_254\"\n        ],\n        \"semantic_type\": \"\",\n        \"description\": \"\"\n      }\n    },\n    {\n      \"column\": \"booking_id\",\n      \"properties\": {\n        \"dtype\": \"string\",\n        \"num_unique_values\": 339,\n        \"samples\": [\n          \"booking_252\",\n          \"booking_313\",\n          \"booking_26\"\n        ],\n        \"semantic_type\": \"\",\n        \"description\": \"\"\n      }\n    },\n    {\n      \"column\": \"from_city\",\n      \"properties\": {\n        \"dtype\": \"category\",\n        \"num_unique_values\": 38,\n        \"samples\": [\n          \"Ferokh\",\n          \"Mohali\",\n          \"Bhubaneswar\"\n        ],\n        \"semantic_type\": \"\",\n        \"description\": \"\"\n      }\n    },\n    {\n      \"column\": \"from_country\",\n      \"properties\": {\n        \"dtype\": \"category\",\n        \"num_unique_values\": 1,\n        \"samples\": [\n          \"India\"\n        ],\n        \"semantic_type\": \"\",\n        \"description\": \"\"\n      }\n    },\n    {\n      \"column\": \"to_city\",\n      \"properties\": {\n        \"dtype\": \"category\",\n        \"num_unique_values\": 95,\n        \"samples\": [\n          \"Dor\\u0101ha\"\n        ],\n        \"semantic_type\": \"\",\n        \"description\": \"\"\n      }\n    },\n    {\n      \"column\": \"to_country\",\n      \"properties\": {\n        \"dtype\": \"category\",\n        \"num_unique_values\": 23,\n        \"samples\": [\n          \"Portugal\"\n        ],\n        \"semantic_type\": \"\",\n        \"description\": \"\"\n      }\n    },\n    {\n      \"column\": \"booking_time\",\n      \"properties\": {\n        \"dtype\": \"object\",\n        \"num_unique_values\": 339,\n        \"samples\": [\n          \"2022-06-29T10:51:14Z\"\n        ],\n        \"semantic_type\": \"\",\n        \"description\": \"\"\n      }\n    },\n    {\n      \"column\": \"device_type_used\",\n      \"properties\": {\n        \"dtype\": \"category\",\n        \"num_unique_values\": 5,\n        \"samples\": [\n          \"Android\"\n        ],\n        \"semantic_type\": \"\",\n        \"description\": \"\"\n      }\n    },\n    {\n      \"column\": \"INR_Amount\",\n      \"properties\": {\n        \"dtype\": \"number\",\n        \"std\": 28148.85115232733,\n        \"min\": 1402.4,\n        \"max\": 216646.4,\n        \"num_unique_values\": 332,\n        \"samples\": [\n          44276.57\n        ],\n        \"semantic_type\": \"\",\n        \"description\": \"\"\n      }\n    },\n    {\n      \"column\": \"service_name\",\n      \"properties\": {\n        \"dtype\": \"category\",\n        \"num_unique_values\": 3,\n        \"samples\": [\n          \"MMT\"\n        ],\n        \"semantic_type\": \"\",\n        \"description\": \"\"\n      }\n    },\n    {\n      \"column\": \"no_of_passengers\",\n      \"properties\": {\n        \"dtype\": \"number\",\n        \"std\": 0.5578536655376056,\n        \"min\": 1.0,\n        \"max\": 4.0,\n        \"num_unique_values\": 4,\n        \"samples\": [\n          2.0\n        ],\n        \"semantic_type\": \"\",\n        \"description\": \"\"\n      }\n    },\n    {\n      \"column\": \"days_to_departure\",\n      \"properties\": {\n        \"dtype\": \"number\",\n        \"std\": 36.41220803853672,\n        \"min\": 0.0,\n        \"max\": 311.0,\n        \"num_unique_values\": 78,\n        \"samples\": [\n          108.0\n        ],\n        \"semantic_type\": \"\",\n        \"description\": \"\"\n      }\n    },\n    {\n      \"column\": \"distance_km\",\n      \"properties\": {\n        \"dtype\": \"number\",\n        \"std\": 3119.0339796208077,\n        \"min\": 206.8,\n        \"max\": 16520.3,\n        \"num_unique_values\": 214,\n        \"samples\": [\n          6008.3\n        ],\n        \"semantic_type\": \"\",\n        \"description\": \"\"\n      }\n    }\n  ]\n}"
            }
          },
          "metadata": {},
          "execution_count": 2
        }
      ]
    },
    {
      "cell_type": "code",
      "source": [
        "sessions.head()"
      ],
      "metadata": {
        "colab": {
          "base_uri": "https://localhost:8080/",
          "height": 206
        },
        "id": "MY28Krkj8B4E",
        "outputId": "9ac1e1a4-c063-42fb-908d-fc1208adca2c"
      },
      "execution_count": null,
      "outputs": [
        {
          "output_type": "execute_result",
          "data": {
            "text/plain": [
              "    session_id   search_id               search_time session_starting_time  \\\n",
              "0  session_322  search_784  2020-01-21T21:35:38.910Z  2020-01-21T21:10:12Z   \n",
              "1  session_322  search_776  2020-01-21T21:37:37.697Z  2020-01-21T21:10:12Z   \n",
              "2  session_322  search_623  2020-01-21T21:36:11.392Z  2020-01-21T21:10:12Z   \n",
              "3  session_322  search_270  2020-01-21T21:16:07.685Z  2020-01-21T21:10:12Z   \n",
              "4  session_322  search_905  2020-01-21T21:34:55.673Z  2020-01-21T21:10:12Z   \n",
              "\n",
              "  booking_id  \n",
              "0        NaN  \n",
              "1        NaN  \n",
              "2        NaN  \n",
              "3        NaN  \n",
              "4        NaN  "
            ],
            "text/html": [
              "\n",
              "  <div id=\"df-aefcc3a8-de2e-4d4d-b095-54096a4b0bae\" class=\"colab-df-container\">\n",
              "    <div>\n",
              "<style scoped>\n",
              "    .dataframe tbody tr th:only-of-type {\n",
              "        vertical-align: middle;\n",
              "    }\n",
              "\n",
              "    .dataframe tbody tr th {\n",
              "        vertical-align: top;\n",
              "    }\n",
              "\n",
              "    .dataframe thead th {\n",
              "        text-align: right;\n",
              "    }\n",
              "</style>\n",
              "<table border=\"1\" class=\"dataframe\">\n",
              "  <thead>\n",
              "    <tr style=\"text-align: right;\">\n",
              "      <th></th>\n",
              "      <th>session_id</th>\n",
              "      <th>search_id</th>\n",
              "      <th>search_time</th>\n",
              "      <th>session_starting_time</th>\n",
              "      <th>booking_id</th>\n",
              "    </tr>\n",
              "  </thead>\n",
              "  <tbody>\n",
              "    <tr>\n",
              "      <th>0</th>\n",
              "      <td>session_322</td>\n",
              "      <td>search_784</td>\n",
              "      <td>2020-01-21T21:35:38.910Z</td>\n",
              "      <td>2020-01-21T21:10:12Z</td>\n",
              "      <td>NaN</td>\n",
              "    </tr>\n",
              "    <tr>\n",
              "      <th>1</th>\n",
              "      <td>session_322</td>\n",
              "      <td>search_776</td>\n",
              "      <td>2020-01-21T21:37:37.697Z</td>\n",
              "      <td>2020-01-21T21:10:12Z</td>\n",
              "      <td>NaN</td>\n",
              "    </tr>\n",
              "    <tr>\n",
              "      <th>2</th>\n",
              "      <td>session_322</td>\n",
              "      <td>search_623</td>\n",
              "      <td>2020-01-21T21:36:11.392Z</td>\n",
              "      <td>2020-01-21T21:10:12Z</td>\n",
              "      <td>NaN</td>\n",
              "    </tr>\n",
              "    <tr>\n",
              "      <th>3</th>\n",
              "      <td>session_322</td>\n",
              "      <td>search_270</td>\n",
              "      <td>2020-01-21T21:16:07.685Z</td>\n",
              "      <td>2020-01-21T21:10:12Z</td>\n",
              "      <td>NaN</td>\n",
              "    </tr>\n",
              "    <tr>\n",
              "      <th>4</th>\n",
              "      <td>session_322</td>\n",
              "      <td>search_905</td>\n",
              "      <td>2020-01-21T21:34:55.673Z</td>\n",
              "      <td>2020-01-21T21:10:12Z</td>\n",
              "      <td>NaN</td>\n",
              "    </tr>\n",
              "  </tbody>\n",
              "</table>\n",
              "</div>\n",
              "    <div class=\"colab-df-buttons\">\n",
              "\n",
              "  <div class=\"colab-df-container\">\n",
              "    <button class=\"colab-df-convert\" onclick=\"convertToInteractive('df-aefcc3a8-de2e-4d4d-b095-54096a4b0bae')\"\n",
              "            title=\"Convert this dataframe to an interactive table.\"\n",
              "            style=\"display:none;\">\n",
              "\n",
              "  <svg xmlns=\"http://www.w3.org/2000/svg\" height=\"24px\" viewBox=\"0 -960 960 960\">\n",
              "    <path d=\"M120-120v-720h720v720H120Zm60-500h600v-160H180v160Zm220 220h160v-160H400v160Zm0 220h160v-160H400v160ZM180-400h160v-160H180v160Zm440 0h160v-160H620v160ZM180-180h160v-160H180v160Zm440 0h160v-160H620v160Z\"/>\n",
              "  </svg>\n",
              "    </button>\n",
              "\n",
              "  <style>\n",
              "    .colab-df-container {\n",
              "      display:flex;\n",
              "      gap: 12px;\n",
              "    }\n",
              "\n",
              "    .colab-df-convert {\n",
              "      background-color: #E8F0FE;\n",
              "      border: none;\n",
              "      border-radius: 50%;\n",
              "      cursor: pointer;\n",
              "      display: none;\n",
              "      fill: #1967D2;\n",
              "      height: 32px;\n",
              "      padding: 0 0 0 0;\n",
              "      width: 32px;\n",
              "    }\n",
              "\n",
              "    .colab-df-convert:hover {\n",
              "      background-color: #E2EBFA;\n",
              "      box-shadow: 0px 1px 2px rgba(60, 64, 67, 0.3), 0px 1px 3px 1px rgba(60, 64, 67, 0.15);\n",
              "      fill: #174EA6;\n",
              "    }\n",
              "\n",
              "    .colab-df-buttons div {\n",
              "      margin-bottom: 4px;\n",
              "    }\n",
              "\n",
              "    [theme=dark] .colab-df-convert {\n",
              "      background-color: #3B4455;\n",
              "      fill: #D2E3FC;\n",
              "    }\n",
              "\n",
              "    [theme=dark] .colab-df-convert:hover {\n",
              "      background-color: #434B5C;\n",
              "      box-shadow: 0px 1px 3px 1px rgba(0, 0, 0, 0.15);\n",
              "      filter: drop-shadow(0px 1px 2px rgba(0, 0, 0, 0.3));\n",
              "      fill: #FFFFFF;\n",
              "    }\n",
              "  </style>\n",
              "\n",
              "    <script>\n",
              "      const buttonEl =\n",
              "        document.querySelector('#df-aefcc3a8-de2e-4d4d-b095-54096a4b0bae button.colab-df-convert');\n",
              "      buttonEl.style.display =\n",
              "        google.colab.kernel.accessAllowed ? 'block' : 'none';\n",
              "\n",
              "      async function convertToInteractive(key) {\n",
              "        const element = document.querySelector('#df-aefcc3a8-de2e-4d4d-b095-54096a4b0bae');\n",
              "        const dataTable =\n",
              "          await google.colab.kernel.invokeFunction('convertToInteractive',\n",
              "                                                    [key], {});\n",
              "        if (!dataTable) return;\n",
              "\n",
              "        const docLinkHtml = 'Like what you see? Visit the ' +\n",
              "          '<a target=\"_blank\" href=https://colab.research.google.com/notebooks/data_table.ipynb>data table notebook</a>'\n",
              "          + ' to learn more about interactive tables.';\n",
              "        element.innerHTML = '';\n",
              "        dataTable['output_type'] = 'display_data';\n",
              "        await google.colab.output.renderOutput(dataTable, element);\n",
              "        const docLink = document.createElement('div');\n",
              "        docLink.innerHTML = docLinkHtml;\n",
              "        element.appendChild(docLink);\n",
              "      }\n",
              "    </script>\n",
              "  </div>\n",
              "\n",
              "\n",
              "<div id=\"df-7b7006c5-5251-41c5-b598-1731c462741e\">\n",
              "  <button class=\"colab-df-quickchart\" onclick=\"quickchart('df-7b7006c5-5251-41c5-b598-1731c462741e')\"\n",
              "            title=\"Suggest charts\"\n",
              "            style=\"display:none;\">\n",
              "\n",
              "<svg xmlns=\"http://www.w3.org/2000/svg\" height=\"24px\"viewBox=\"0 0 24 24\"\n",
              "     width=\"24px\">\n",
              "    <g>\n",
              "        <path d=\"M19 3H5c-1.1 0-2 .9-2 2v14c0 1.1.9 2 2 2h14c1.1 0 2-.9 2-2V5c0-1.1-.9-2-2-2zM9 17H7v-7h2v7zm4 0h-2V7h2v10zm4 0h-2v-4h2v4z\"/>\n",
              "    </g>\n",
              "</svg>\n",
              "  </button>\n",
              "\n",
              "<style>\n",
              "  .colab-df-quickchart {\n",
              "      --bg-color: #E8F0FE;\n",
              "      --fill-color: #1967D2;\n",
              "      --hover-bg-color: #E2EBFA;\n",
              "      --hover-fill-color: #174EA6;\n",
              "      --disabled-fill-color: #AAA;\n",
              "      --disabled-bg-color: #DDD;\n",
              "  }\n",
              "\n",
              "  [theme=dark] .colab-df-quickchart {\n",
              "      --bg-color: #3B4455;\n",
              "      --fill-color: #D2E3FC;\n",
              "      --hover-bg-color: #434B5C;\n",
              "      --hover-fill-color: #FFFFFF;\n",
              "      --disabled-bg-color: #3B4455;\n",
              "      --disabled-fill-color: #666;\n",
              "  }\n",
              "\n",
              "  .colab-df-quickchart {\n",
              "    background-color: var(--bg-color);\n",
              "    border: none;\n",
              "    border-radius: 50%;\n",
              "    cursor: pointer;\n",
              "    display: none;\n",
              "    fill: var(--fill-color);\n",
              "    height: 32px;\n",
              "    padding: 0;\n",
              "    width: 32px;\n",
              "  }\n",
              "\n",
              "  .colab-df-quickchart:hover {\n",
              "    background-color: var(--hover-bg-color);\n",
              "    box-shadow: 0 1px 2px rgba(60, 64, 67, 0.3), 0 1px 3px 1px rgba(60, 64, 67, 0.15);\n",
              "    fill: var(--button-hover-fill-color);\n",
              "  }\n",
              "\n",
              "  .colab-df-quickchart-complete:disabled,\n",
              "  .colab-df-quickchart-complete:disabled:hover {\n",
              "    background-color: var(--disabled-bg-color);\n",
              "    fill: var(--disabled-fill-color);\n",
              "    box-shadow: none;\n",
              "  }\n",
              "\n",
              "  .colab-df-spinner {\n",
              "    border: 2px solid var(--fill-color);\n",
              "    border-color: transparent;\n",
              "    border-bottom-color: var(--fill-color);\n",
              "    animation:\n",
              "      spin 1s steps(1) infinite;\n",
              "  }\n",
              "\n",
              "  @keyframes spin {\n",
              "    0% {\n",
              "      border-color: transparent;\n",
              "      border-bottom-color: var(--fill-color);\n",
              "      border-left-color: var(--fill-color);\n",
              "    }\n",
              "    20% {\n",
              "      border-color: transparent;\n",
              "      border-left-color: var(--fill-color);\n",
              "      border-top-color: var(--fill-color);\n",
              "    }\n",
              "    30% {\n",
              "      border-color: transparent;\n",
              "      border-left-color: var(--fill-color);\n",
              "      border-top-color: var(--fill-color);\n",
              "      border-right-color: var(--fill-color);\n",
              "    }\n",
              "    40% {\n",
              "      border-color: transparent;\n",
              "      border-right-color: var(--fill-color);\n",
              "      border-top-color: var(--fill-color);\n",
              "    }\n",
              "    60% {\n",
              "      border-color: transparent;\n",
              "      border-right-color: var(--fill-color);\n",
              "    }\n",
              "    80% {\n",
              "      border-color: transparent;\n",
              "      border-right-color: var(--fill-color);\n",
              "      border-bottom-color: var(--fill-color);\n",
              "    }\n",
              "    90% {\n",
              "      border-color: transparent;\n",
              "      border-bottom-color: var(--fill-color);\n",
              "    }\n",
              "  }\n",
              "</style>\n",
              "\n",
              "  <script>\n",
              "    async function quickchart(key) {\n",
              "      const quickchartButtonEl =\n",
              "        document.querySelector('#' + key + ' button');\n",
              "      quickchartButtonEl.disabled = true;  // To prevent multiple clicks.\n",
              "      quickchartButtonEl.classList.add('colab-df-spinner');\n",
              "      try {\n",
              "        const charts = await google.colab.kernel.invokeFunction(\n",
              "            'suggestCharts', [key], {});\n",
              "      } catch (error) {\n",
              "        console.error('Error during call to suggestCharts:', error);\n",
              "      }\n",
              "      quickchartButtonEl.classList.remove('colab-df-spinner');\n",
              "      quickchartButtonEl.classList.add('colab-df-quickchart-complete');\n",
              "    }\n",
              "    (() => {\n",
              "      let quickchartButtonEl =\n",
              "        document.querySelector('#df-7b7006c5-5251-41c5-b598-1731c462741e button');\n",
              "      quickchartButtonEl.style.display =\n",
              "        google.colab.kernel.accessAllowed ? 'block' : 'none';\n",
              "    })();\n",
              "  </script>\n",
              "</div>\n",
              "\n",
              "    </div>\n",
              "  </div>\n"
            ],
            "application/vnd.google.colaboratory.intrinsic+json": {
              "type": "dataframe",
              "variable_name": "sessions",
              "summary": "{\n  \"name\": \"sessions\",\n  \"rows\": 1497,\n  \"fields\": [\n    {\n      \"column\": \"session_id\",\n      \"properties\": {\n        \"dtype\": \"category\",\n        \"num_unique_values\": 331,\n        \"samples\": [\n          \"session_113\",\n          \"session_211\",\n          \"session_241\"\n        ],\n        \"semantic_type\": \"\",\n        \"description\": \"\"\n      }\n    },\n    {\n      \"column\": \"search_id\",\n      \"properties\": {\n        \"dtype\": \"string\",\n        \"num_unique_values\": 1360,\n        \"samples\": [\n          \"search_829\",\n          \"search_72\",\n          \"search_426\"\n        ],\n        \"semantic_type\": \"\",\n        \"description\": \"\"\n      }\n    },\n    {\n      \"column\": \"search_time\",\n      \"properties\": {\n        \"dtype\": \"string\",\n        \"num_unique_values\": 1357,\n        \"samples\": [\n          \"2021-11-08T15:45:27Z\",\n          \"2018-10-02T09:44:25.289Z\",\n          \"2021-11-15T19:22:21Z\"\n        ],\n        \"semantic_type\": \"\",\n        \"description\": \"\"\n      }\n    },\n    {\n      \"column\": \"session_starting_time\",\n      \"properties\": {\n        \"dtype\": \"category\",\n        \"num_unique_values\": 333,\n        \"samples\": [\n          \"2018-09-25T18:14:03.336Z\",\n          \"2019-08-31T07:27:38.145Z\",\n          \"2021-09-28T18:31:16Z\"\n        ],\n        \"semantic_type\": \"\",\n        \"description\": \"\"\n      }\n    },\n    {\n      \"column\": \"booking_id\",\n      \"properties\": {\n        \"dtype\": \"category\",\n        \"num_unique_values\": 338,\n        \"samples\": [\n          \"booking_165\",\n          \"booking_35\",\n          \"booking_224\"\n        ],\n        \"semantic_type\": \"\",\n        \"description\": \"\"\n      }\n    }\n  ]\n}"
            }
          },
          "metadata": {},
          "execution_count": 3
        }
      ]
    },
    {
      "cell_type": "markdown",
      "source": [
        "# **2. Sessions with More Than One Booking**\n",
        "To find how many sessions have more than one booking:"
      ],
      "metadata": {
        "id": "y56quGLe7vXN"
      }
    },
    {
      "cell_type": "code",
      "source": [
        "# Count bookings per session\n",
        "session_booking_counts = sessions['session_id'].value_counts()\n",
        "multiple_booking_sessions = session_booking_counts[session_booking_counts > 1].count()\n",
        "\n",
        "print(f\"Sessions with more than one booking: {multiple_booking_sessions}\")"
      ],
      "metadata": {
        "colab": {
          "base_uri": "https://localhost:8080/"
        },
        "id": "3w4nRUin7pgR",
        "outputId": "c3522f92-1f65-4a25-a7c4-b12b4e872b33"
      },
      "execution_count": null,
      "outputs": [
        {
          "output_type": "stream",
          "name": "stdout",
          "text": [
            "Sessions with more than one booking: 237\n"
          ]
        }
      ]
    },
    {
      "cell_type": "markdown",
      "source": [
        "# **3. Days of the Week with Highest Bookings**\n",
        "To determine which days have the highest number of bookings and create a pie chart:"
      ],
      "metadata": {
        "id": "WBPtDhvp9JUz"
      }
    },
    {
      "cell_type": "code",
      "source": [
        "# Convert booking_time to datetime and extract day of the week\n",
        "bookings['booking_time'] = pd.to_datetime(bookings['booking_time'])\n",
        "bookings['day_of_week'] = bookings['booking_time'].dt.day_name()\n",
        "\n",
        "# Count bookings per day\n",
        "bookings_per_day = bookings['day_of_week'].value_counts()\n",
        "\n",
        "# Plotting\n",
        "import matplotlib.pyplot as plt\n",
        "\n",
        "plt.pie(bookings_per_day, labels=bookings_per_day.index, autopct='%1.1f%%')\n",
        "plt.title('Booking Distribution by Day of the Week')\n",
        "plt.show()"
      ],
      "metadata": {
        "colab": {
          "base_uri": "https://localhost:8080/",
          "height": 428
        },
        "id": "68zHza_b70gn",
        "outputId": "79acb718-c05a-4e9c-e963-56744f137029"
      },
      "execution_count": null,
      "outputs": [
        {
          "output_type": "display_data",
          "data": {
            "text/plain": [
              "<Figure size 640x480 with 1 Axes>"
            ],
            "image/png": "[encoded data removed]"
          },
          "metadata": {}
        }
      ]
    },
    {
      "cell_type": "markdown",
      "source": [
        "# **4. Total Bookings and Gross Booking Value by Service Name**\n",
        "To display total bookings and Gross Booking Value for each service:"
      ],
      "metadata": {
        "id": "ExS1Gmkj73H2"
      }
    },
    {
      "cell_type": "code",
      "source": [
        "service_summary = bookings.groupby('service_name').agg(\n",
        "    total_bookings=('booking_id', 'count'),\n",
        "    total_gross_value=('INR_Amount', 'sum')\n",
        ").reset_index()\n",
        "\n",
        "print(service_summary)"
      ],
      "metadata": {
        "colab": {
          "base_uri": "https://localhost:8080/"
        },
        "id": "TRBdEsqi78ip",
        "outputId": "79d0a54c-c4b3-45c2-f73a-d1b59742b325"
      },
      "execution_count": null,
      "outputs": [
        {
          "output_type": "stream",
          "name": "stdout",
          "text": [
            "  service_name  total_bookings  total_gross_value\n",
            "0      GOIBIBO             186         5897637.97\n",
            "1          MMT              48          665669.08\n",
            "2        YATRA             105         3378702.13\n"
          ]
        }
      ]
    },
    {
      "cell_type": "markdown",
      "source": [
        "# **5. Most Booked Route for Customers with More Than One Booking**\n",
        "To find the most booked route for customers with multiple bookings:"
      ],
      "metadata": {
        "id": "AA8kBdWu8LWs"
      }
    },
    {
      "cell_type": "code",
      "source": [
        "customer_multiple_bookings = bookings[bookings['customer_id'].duplicated(keep=False)]\n",
        "most_booked_route = customer_multiple_bookings.groupby(['from_city', 'to_city']).size().idxmax()\n",
        "\n",
        "print(f\"Most booked route: {most_booked_route}\")"
      ],
      "metadata": {
        "colab": {
          "base_uri": "https://localhost:8080/"
        },
        "id": "iyqDoPCI8Ntx",
        "outputId": "68762ff5-130e-473f-9ff4-00fe53fd7a71"
      },
      "execution_count": null,
      "outputs": [
        {
          "output_type": "stream",
          "name": "stdout",
          "text": [
            "Most booked route: ('Gurgaon', 'Roissy-en-France')\n"
          ]
        }
      ]
    },
    {
      "cell_type": "markdown",
      "source": [
        "# **6. Top 3 Departure Cities with At Least 5 Departures**\n",
        "To identify top departure cities where customers book mostly in advance:"
      ],
      "metadata": {
        "id": "keNEnzxS8W07"
      }
    },
    {
      "cell_type": "code",
      "source": [
        "departure_counts = bookings['from_city'].value_counts()\n",
        "top_departure_cities = departure_counts[departure_counts >= 5].nlargest(3)\n",
        "\n",
        "print(f\"Top 3 departure cities: {top_departure_cities.index.tolist()}\")"
      ],
      "metadata": {
        "colab": {
          "base_uri": "https://localhost:8080/"
        },
        "id": "j26ABs058eTQ",
        "outputId": "dd7c57e0-83dc-47f7-df63-ec78505afb63"
      },
      "execution_count": null,
      "outputs": [
        {
          "output_type": "stream",
          "name": "stdout",
          "text": [
            "Top 3 departure cities: ['Gurgaon', 'Mumbai', 'Delhi']\n"
          ]
        }
      ]
    },
    {
      "cell_type": "markdown",
      "source": [
        "# **7. Heatmap of Numerical Column Correlations**\n",
        "To create a heatmap and find maximum correlation:"
      ],
      "metadata": {
        "id": "rZUmzNB48mtF"
      }
    },
    {
      "cell_type": "code",
      "source": [
        "import seaborn as sns\n",
        "\n",
        "\n",
        "\n",
        "# Check data types to identify non-numeric columns\n",
        "print(bookings.dtypes)\n",
        "\n",
        "# Select only numeric columns for correlation analysis\n",
        "numeric_columns = bookings.select_dtypes(include=['float64', 'int64'])\n",
        "\n",
        "# Calculate the correlation matrix\n",
        "correlation_matrix = numeric_columns.corr()\n",
        "\n",
        "# Plotting the heatmap\n",
        "sns.heatmap(correlation_matrix, annot=True, cmap='coolwarm')\n",
        "plt.title('Correlation Heatmap of Numeric Columns')\n",
        "plt.show()\n",
        "\n",
        "# Finding the pair of numerical columns with maximum correlation\n",
        "max_corr_pair = correlation_matrix.unstack().idxmax()\n",
        "print(f\"Maximum correlation pair: {max_corr_pair}\")\n",
        "#correlation_matrix = bookings.corr()\n",
        "#sns.heatmap(correlation_matrix, annot=True)\n",
        "#plt.show()\n",
        "\n",
        "#max_corr_pair = correlation_matrix.unstack().idxmax()\n",
        "#print(f\"Maximum correlation pair: {max_corr_pair}\")"
      ],
      "metadata": {
        "colab": {
          "base_uri": "https://localhost:8080/",
          "height": 860
        },
        "id": "phakS0xe8o6G",
        "outputId": "9ba53c0d-2a0e-4bf1-c2d0-0502a94a9efc"
      },
      "execution_count": null,
      "outputs": [
        {
          "output_type": "stream",
          "name": "stdout",
          "text": [
            "customer_id                       object\n",
            "booking_id                        object\n",
            "from_city                         object\n",
            "from_country                      object\n",
            "to_city                           object\n",
            "to_country                        object\n",
            "booking_time         datetime64[ns, UTC]\n",
            "device_type_used                  object\n",
            "INR_Amount                       float64\n",
            "service_name                      object\n",
            "no_of_passengers                 float64\n",
            "days_to_departure                float64\n",
            "distance_km                      float64\n",
            "day_of_week                       object\n",
            "dtype: object\n"
          ]
        },
        {
          "output_type": "display_data",
          "data": {
            "text/plain": [
              "<Figure size 640x480 with 2 Axes>"
            ],
            "image/png": "[encoded data removed]"
          },
          "metadata": {}
        },
        {
          "output_type": "stream",
          "name": "stdout",
          "text": [
            "Maximum correlation pair: ('INR_Amount', 'INR_Amount')\n"
          ]
        }
      ]
    },
    {
      "cell_type": "markdown",
      "source": [
        "# **8. Most Used Device Type for Each Service**\n",
        "To determine the most used device type for each service:"
      ],
      "metadata": {
        "id": "9-_QYpGr80jN"
      }
    },
    {
      "cell_type": "code",
      "source": [
        "most_used_device = bookings.groupby('service_name')['device_type_used'].agg(lambda x: x.value_counts().idxmax()).reset_index()\n",
        "\n",
        "print(most_used_device)"
      ],
      "metadata": {
        "colab": {
          "base_uri": "https://localhost:8080/"
        },
        "id": "9D0yS0mm86BR",
        "outputId": "23ea38a5-6dc5-460f-8898-a27f1dd73eb4"
      },
      "execution_count": null,
      "outputs": [
        {
          "output_type": "stream",
          "name": "stdout",
          "text": [
            "  service_name device_type_used\n",
            "0      GOIBIBO              IOS\n",
            "1          MMT          Desktop\n",
            "2        YATRA          Desktop\n"
          ]
        }
      ]
    },
    {
      "cell_type": "markdown",
      "source": [
        "# **9. Quarterly Trends for Device Types**\n",
        "To plot quarterly trends for device types:"
      ],
      "metadata": {
        "id": "ceZOJ37M9BKV"
      }
    },
    {
      "cell_type": "code",
      "source": [
        "bookings['quarter'] = bookings['booking_time'].dt.to_period('Q')\n",
        "quarterly_trends = bookings.groupby(['quarter', 'device_type_used']).size().unstack(fill_value=0)\n",
        "\n",
        "quarterly_trends.plot(kind='line')\n",
        "plt.title('Quarterly Booking Trends by Device Type')\n",
        "plt.ylabel('Number of Bookings')\n",
        "plt.show()"
      ],
      "metadata": {
        "colab": {
          "base_uri": "https://localhost:8080/",
          "height": 508
        },
        "id": "aAagUv3w9E7B",
        "outputId": "77b489f8-d843-44bd-d140-6652a9eb3e14"
      },
      "execution_count": null,
      "outputs": [
        {
          "output_type": "stream",
          "name": "stderr",
          "text": [
            "<ipython-input-11-c239beac7750>:1: UserWarning: Converting to PeriodArray/Index representation will drop timezone information.\n",
            "  bookings['quarter'] = bookings['booking_time'].dt.to_period('Q')\n"
          ]
        },
        {
          "output_type": "display_data",
          "data": {
            "text/plain": [
              "<Figure size 640x480 with 1 Axes>"
            ],
            "image/png": "[encoded data removed]"
          },
          "metadata": {}
        }
      ]
    },
    {
      "cell_type": "markdown",
      "source": [
        "# **10. Overall Booking to Search Ratio (oBSR)**\n",
        "To calculate average oBSR for each month and day of the week and plot a time series:"
      ],
      "metadata": {
        "id": "xfIuvLl69Kml"
      }
    },
    {
      "cell_type": "code",
      "source": [
        "# Ensure booking_time and search_time are in datetime format\n",
        "# Convert booking_time and search_time to datetime\n",
        "bookings['booking_time'] = pd.to_datetime(bookings['booking_time'], errors='coerce')\n",
        "sessions['search_time'] = pd.to_datetime(sessions['search_time'], errors='coerce')\n",
        "\n",
        "# Check for any conversion issues\n",
        "print(bookings['booking_time'].isnull().sum(), \"invalid booking times\")\n",
        "print(sessions['search_time'].isnull().sum(), \"invalid search times\")\n",
        "\n",
        "# Count total bookings and searches\n",
        "total_bookings = bookings['booking_id'].nunique()\n",
        "total_searches = sessions['search_id'].nunique()\n",
        "\n",
        "# Calculate overall Booking to Search Ratio (oBSR)\n",
        "oBSR = total_bookings / total_searches if total_searches > 0 else 0\n",
        "print(f\"Overall Booking to Search Ratio (oBSR): {oBSR:.2f}\")\n",
        "\n",
        "# Calculate monthly oBSR\n",
        "bookings['month'] = bookings['booking_time'].dt.to_period('M')\n",
        "sessions['month'] = sessions['search_time'].dt.to_period('M')\n",
        "\n",
        "monthly_bookings = bookings.groupby('month')['booking_id'].nunique()\n",
        "monthly_searches = sessions.groupby('month')['search_id'].nunique()\n",
        "\n",
        "monthly_oBSR = monthly_bookings / monthly_searches\n",
        "print(\"Average oBSR for each month:\")\n",
        "print(monthly_oBSR)\n",
        "\n",
        "# Calculate daily oBSR\n",
        "bookings['day'] = bookings['booking_time'].dt.day_name()\n",
        "sessions['day'] = sessions['search_time'].dt.day_name()\n",
        "\n",
        "daily_bookings = bookings.groupby('day')['booking_id'].nunique()\n",
        "daily_searches = sessions.groupby('day')['search_id'].nunique()\n",
        "\n",
        "daily_oBSR = daily_bookings / daily_searches\n",
        "print(\"Average oBSR for each day of the week:\")\n",
        "print(daily_oBSR)\n",
        "\n",
        "# Plotting time series of oBSR on all given dates\n",
        "date_oBSR = bookings.groupby('booking_time').size() / sessions.groupby('search_time').size()\n",
        "date_oBSR.plot(title='Time Series of Overall Booking to Search Ratio (oBSR)')\n",
        "plt.xlabel('Date')\n",
        "plt.ylabel('oBSR')\n",
        "plt.xticks(rotation=45)\n",
        "plt.tight_layout()\n",
        "plt.show()"
      ],
      "metadata": {
        "colab": {
          "base_uri": "https://localhost:8080/",
          "height": 1000
        },
        "id": "RulzuVyI9Rbc",
        "outputId": "6125cd7e-daa5-4d53-d50b-25126c71d938"
      },
      "execution_count": null,
      "outputs": [
        {
          "output_type": "stream",
          "name": "stdout",
          "text": [
            "0 invalid booking times\n",
            "573 invalid search times\n",
            "Overall Booking to Search Ratio (oBSR): 0.25\n",
            "Average oBSR for each month:\n",
            "month\n",
            "2018-09    0.387097\n",
            "2018-10    0.095238\n",
            "2018-11    0.250000\n",
            "2018-12    0.193548\n",
            "2019-01    0.333333\n",
            "2019-06    1.000000\n",
            "2019-07    0.217391\n",
            "2019-08    0.285714\n",
            "2019-09    0.304348\n",
            "2019-10    0.214286\n",
            "2019-11    0.285714\n",
            "2019-12    0.228070\n",
            "2020-01    0.226027\n",
            "2020-02    0.306452\n",
            "2020-03    0.300000\n",
            "2020-05         NaN\n",
            "2020-06         NaN\n",
            "2020-07         NaN\n",
            "2020-08         NaN\n",
            "2020-09         NaN\n",
            "2020-10         NaN\n",
            "2020-11         NaN\n",
            "2020-12         NaN\n",
            "2021-01         NaN\n",
            "2021-02         NaN\n",
            "2021-03         NaN\n",
            "2021-04         NaN\n",
            "2021-05         NaN\n",
            "2021-06         NaN\n",
            "2021-07         NaN\n",
            "2021-08         NaN\n",
            "2021-09         NaN\n",
            "2021-10         NaN\n",
            "2021-11         NaN\n",
            "2021-12         NaN\n",
            "2022-01         NaN\n",
            "2022-02         NaN\n",
            "2022-03         NaN\n",
            "2022-04         NaN\n",
            "2022-05         NaN\n",
            "2022-06         NaN\n",
            "2022-07         NaN\n",
            "Freq: M, dtype: float64\n",
            "Average oBSR for each day of the week:\n",
            "day\n",
            "Friday       0.428571\n",
            "Monday       0.366906\n",
            "Saturday     0.366667\n",
            "Sunday       0.614035\n",
            "Thursday     0.371429\n",
            "Tuesday      0.443609\n",
            "Wednesday    0.340000\n",
            "dtype: float64\n"
          ]
        },
        {
          "output_type": "stream",
          "name": "stderr",
          "text": [
            "<ipython-input-15-3ecccf0e75f8>:19: UserWarning: Converting to PeriodArray/Index representation will drop timezone information.\n",
            "  bookings['month'] = bookings['booking_time'].dt.to_period('M')\n",
            "<ipython-input-15-3ecccf0e75f8>:20: UserWarning: Converting to PeriodArray/Index representation will drop timezone information.\n",
            "  sessions['month'] = sessions['search_time'].dt.to_period('M')\n"
          ]
        },
        {
          "output_type": "display_data",
          "data": {
            "text/plain": [
              "<Figure size 640x480 with 1 Axes>"
            ],
            "image/png": "[encoded data removed]"
          },
          "metadata": {}
        }
      ]
    }
  ]
}