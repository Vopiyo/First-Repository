{
  "nbformat": 4,
  "nbformat_minor": 0,
  "metadata": {
    "colab": {
      "provenance": [],
      "include_colab_link": true
    },
    "kernelspec": {
      "name": "python3",
      "display_name": "Python 3"
    },
    "language_info": {
      "name": "python"
    },
    "widgets": {
      "application/vnd.jupyter.widget-state+json": {
        "1682e856747d4a2da2102c1b98eb9cf5": {
          "model_module": "@jupyter-widgets/controls",
          "model_name": "TextModel",
          "model_module_version": "1.5.0",
          "state": {
            "_dom_classes": [],
            "_model_module": "@jupyter-widgets/controls",
            "_model_module_version": "1.5.0",
            "_model_name": "TextModel",
            "_view_count": null,
            "_view_module": "@jupyter-widgets/controls",
            "_view_module_version": "1.5.0",
            "_view_name": "TextView",
            "continuous_update": true,
            "description": "Genre:",
            "description_tooltip": null,
            "disabled": false,
            "layout": "IPY_MODEL_816f7d300ace4e40a77fcb460b0904f2",
            "placeholder": "​",
            "style": "IPY_MODEL_2133e7c3bd05470887c8ad0d94911620",
            "value": "Action"
          }
        },
        "816f7d300ace4e40a77fcb460b0904f2": {
          "model_module": "@jupyter-widgets/base",
          "model_name": "LayoutModel",
          "model_module_version": "1.2.0",
          "state": {
            "_model_module": "@jupyter-widgets/base",
            "_model_module_version": "1.2.0",
            "_model_name": "LayoutModel",
            "_view_count": null,
            "_view_module": "@jupyter-widgets/base",
            "_view_module_version": "1.2.0",
            "_view_name": "LayoutView",
            "align_content": null,
            "align_items": null,
            "align_self": null,
            "border": null,
            "bottom": null,
            "display": null,
            "flex": null,
            "flex_flow": null,
            "grid_area": null,
            "grid_auto_columns": null,
            "grid_auto_flow": null,
            "grid_auto_rows": null,
            "grid_column": null,
            "grid_gap": null,
            "grid_row": null,
            "grid_template_areas": null,
            "grid_template_columns": null,
            "grid_template_rows": null,
            "height": null,
            "justify_content": null,
            "justify_items": null,
            "left": null,
            "margin": null,
            "max_height": null,
            "max_width": null,
            "min_height": null,
            "min_width": null,
            "object_fit": null,
            "object_position": null,
            "order": null,
            "overflow": null,
            "overflow_x": null,
            "overflow_y": null,
            "padding": null,
            "right": null,
            "top": null,
            "visibility": null,
            "width": null
          }
        },
        "2133e7c3bd05470887c8ad0d94911620": {
          "model_module": "@jupyter-widgets/controls",
          "model_name": "DescriptionStyleModel",
          "model_module_version": "1.5.0",
          "state": {
            "_model_module": "@jupyter-widgets/controls",
            "_model_module_version": "1.5.0",
            "_model_name": "DescriptionStyleModel",
            "_view_count": null,
            "_view_module": "@jupyter-widgets/base",
            "_view_module_version": "1.2.0",
            "_view_name": "StyleView",
            "description_width": ""
          }
        },
        "50b009b812fe49599e89a0ec88d031d9": {
          "model_module": "@jupyter-widgets/controls",
          "model_name": "IntSliderModel",
          "model_module_version": "1.5.0",
          "state": {
            "_dom_classes": [],
            "_model_module": "@jupyter-widgets/controls",
            "_model_module_version": "1.5.0",
            "_model_name": "IntSliderModel",
            "_view_count": null,
            "_view_module": "@jupyter-widgets/controls",
            "_view_module_version": "1.5.0",
            "_view_name": "IntSliderView",
            "continuous_update": true,
            "description": "Min Ratings:",
            "description_tooltip": null,
            "disabled": false,
            "layout": "IPY_MODEL_0654a9f9f222449ab9c5472d7f00968b",
            "max": 1000,
            "min": 1,
            "orientation": "horizontal",
            "readout": true,
            "readout_format": "d",
            "step": 1,
            "style": "IPY_MODEL_9595d4e2150e415998b646ae951f73bb",
            "value": 50
          }
        },
        "0654a9f9f222449ab9c5472d7f00968b": {
          "model_module": "@jupyter-widgets/base",
          "model_name": "LayoutModel",
          "model_module_version": "1.2.0",
          "state": {
            "_model_module": "@jupyter-widgets/base",
            "_model_module_version": "1.2.0",
            "_model_name": "LayoutModel",
            "_view_count": null,
            "_view_module": "@jupyter-widgets/base",
            "_view_module_version": "1.2.0",
            "_view_name": "LayoutView",
            "align_content": null,
            "align_items": null,
            "align_self": null,
            "border": null,
            "bottom": null,
            "display": null,
            "flex": null,
            "flex_flow": null,
            "grid_area": null,
            "grid_auto_columns": null,
            "grid_auto_flow": null,
            "grid_auto_rows": null,
            "grid_column": null,
            "grid_gap": null,
            "grid_row": null,
            "grid_template_areas": null,
            "grid_template_columns": null,
            "grid_template_rows": null,
            "height": null,
            "justify_content": null,
            "justify_items": null,
            "left": null,
            "margin": null,
            "max_height": null,
            "max_width": null,
            "min_height": null,
            "min_width": null,
            "object_fit": null,
            "object_position": null,
            "order": null,
            "overflow": null,
            "overflow_x": null,
            "overflow_y": null,
            "padding": null,
            "right": null,
            "top": null,
            "visibility": null,
            "width": null
          }
        },
        "9595d4e2150e415998b646ae951f73bb": {
          "model_module": "@jupyter-widgets/controls",
          "model_name": "SliderStyleModel",
          "model_module_version": "1.5.0",
          "state": {
            "_model_module": "@jupyter-widgets/controls",
            "_model_module_version": "1.5.0",
            "_model_name": "SliderStyleModel",
            "_view_count": null,
            "_view_module": "@jupyter-widgets/base",
            "_view_module_version": "1.2.0",
            "_view_name": "StyleView",
            "description_width": "",
            "handle_color": null
          }
        },
        "ad1f0aae52944c0c8b5dfe328236f0b3": {
          "model_module": "@jupyter-widgets/controls",
          "model_name": "IntSliderModel",
          "model_module_version": "1.5.0",
          "state": {
            "_dom_classes": [],
            "_model_module": "@jupyter-widgets/controls",
            "_model_module_version": "1.5.0",
            "_model_name": "IntSliderModel",
            "_view_count": null,
            "_view_module": "@jupyter-widgets/controls",
            "_view_module_version": "1.5.0",
            "_view_name": "IntSliderView",
            "continuous_update": true,
            "description": "Recommendations:",
            "description_tooltip": null,
            "disabled": false,
            "layout": "IPY_MODEL_02a2cbfb00014804a6a872b2647d15b7",
            "max": 20,
            "min": 1,
            "orientation": "horizontal",
            "readout": true,
            "readout_format": "d",
            "step": 1,
            "style": "IPY_MODEL_b5db1bb0bb664ee7b5df802d0fea3af8",
            "value": 5
          }
        },
        "02a2cbfb00014804a6a872b2647d15b7": {
          "model_module": "@jupyter-widgets/base",
          "model_name": "LayoutModel",
          "model_module_version": "1.2.0",
          "state": {
            "_model_module": "@jupyter-widgets/base",
            "_model_module_version": "1.2.0",
            "_model_name": "LayoutModel",
            "_view_count": null,
            "_view_module": "@jupyter-widgets/base",
            "_view_module_version": "1.2.0",
            "_view_name": "LayoutView",
            "align_content": null,
            "align_items": null,
            "align_self": null,
            "border": null,
            "bottom": null,
            "display": null,
            "flex": null,
            "flex_flow": null,
            "grid_area": null,
            "grid_auto_columns": null,
            "grid_auto_flow": null,
            "grid_auto_rows": null,
            "grid_column": null,
            "grid_gap": null,
            "grid_row": null,
            "grid_template_areas": null,
            "grid_template_columns": null,
            "grid_template_rows": null,
            "height": null,
            "justify_content": null,
            "justify_items": null,
            "left": null,
            "margin": null,
            "max_height": null,
            "max_width": null,
            "min_height": null,
            "min_width": null,
            "object_fit": null,
            "object_position": null,
            "order": null,
            "overflow": null,
            "overflow_x": null,
            "overflow_y": null,
            "padding": null,
            "right": null,
            "top": null,
            "visibility": null,
            "width": null
          }
        },
        "b5db1bb0bb664ee7b5df802d0fea3af8": {
          "model_module": "@jupyter-widgets/controls",
          "model_name": "SliderStyleModel",
          "model_module_version": "1.5.0",
          "state": {
            "_model_module": "@jupyter-widgets/controls",
            "_model_module_version": "1.5.0",
            "_model_name": "SliderStyleModel",
            "_view_count": null,
            "_view_module": "@jupyter-widgets/base",
            "_view_module_version": "1.2.0",
            "_view_name": "StyleView",
            "description_width": "",
            "handle_color": null
          }
        },
        "57c767db10044b128480456b581ff16b": {
          "model_module": "@jupyter-widgets/controls",
          "model_name": "ButtonModel",
          "model_module_version": "1.5.0",
          "state": {
            "_dom_classes": [],
            "_model_module": "@jupyter-widgets/controls",
            "_model_module_version": "1.5.0",
            "_model_name": "ButtonModel",
            "_view_count": null,
            "_view_module": "@jupyter-widgets/controls",
            "_view_module_version": "1.5.0",
            "_view_name": "ButtonView",
            "button_style": "",
            "description": "Get Recommendations",
            "disabled": false,
            "icon": "",
            "layout": "IPY_MODEL_f24600f4d16d40d8a979b8e4dc450574",
            "style": "IPY_MODEL_a89e20f7f7374f1ab45d1ff07a9d46d3",
            "tooltip": ""
          }
        },
        "f24600f4d16d40d8a979b8e4dc450574": {
          "model_module": "@jupyter-widgets/base",
          "model_name": "LayoutModel",
          "model_module_version": "1.2.0",
          "state": {
            "_model_module": "@jupyter-widgets/base",
            "_model_module_version": "1.2.0",
            "_model_name": "LayoutModel",
            "_view_count": null,
            "_view_module": "@jupyter-widgets/base",
            "_view_module_version": "1.2.0",
            "_view_name": "LayoutView",
            "align_content": null,
            "align_items": null,
            "align_self": null,
            "border": null,
            "bottom": null,
            "display": null,
            "flex": null,
            "flex_flow": null,
            "grid_area": null,
            "grid_auto_columns": null,
            "grid_auto_flow": null,
            "grid_auto_rows": null,
            "grid_column": null,
            "grid_gap": null,
            "grid_row": null,
            "grid_template_areas": null,
            "grid_template_columns": null,
            "grid_template_rows": null,
            "height": null,
            "justify_content": null,
            "justify_items": null,
            "left": null,
            "margin": null,
            "max_height": null,
            "max_width": null,
            "min_height": null,
            "min_width": null,
            "object_fit": null,
            "object_position": null,
            "order": null,
            "overflow": null,
            "overflow_x": null,
            "overflow_y": null,
            "padding": null,
            "right": null,
            "top": null,
            "visibility": null,
            "width": null
          }
        },
        "a89e20f7f7374f1ab45d1ff07a9d46d3": {
          "model_module": "@jupyter-widgets/controls",
          "model_name": "ButtonStyleModel",
          "model_module_version": "1.5.0",
          "state": {
            "_model_module": "@jupyter-widgets/controls",
            "_model_module_version": "1.5.0",
            "_model_name": "ButtonStyleModel",
            "_view_count": null,
            "_view_module": "@jupyter-widgets/base",
            "_view_module_version": "1.2.0",
            "_view_name": "StyleView",
            "button_color": null,
            "font_weight": ""
          }
        }
      }
    }
  },
  "cells": [
    {
      "cell_type": "markdown",
      "metadata": {
        "id": "view-in-github",
        "colab_type": "text"
      },
      "source": [
        "<a href=\"https://colab.research.google.com/github/Vopiyo/First-Repository/blob/main/Recommender_System.ipynb\" target=\"_parent\"><img src=\"https://colab.research.google.com/assets/colab-badge.svg\" alt=\"Open In Colab\"/></a>"
      ]
    },
    {
      "cell_type": "markdown",
      "source": [
        "# **Problem Statement**\n",
        "\n",
        "Over the past two decades, there has been a monumental shift in how people\n",
        "access and consume video content. With universal accessto broadband\n",
        "internet, numerous platforms like **YouTube, Netflix, HBO Go** emerged and\n",
        "steadily grew to prominence.\n",
        "\n",
        "Although not a household name, OTT isthe exact technology that made the\n",
        "streaming revolution possible.\n",
        "\n",
        "OTT standsfor Over the Top, refersto any video streaming service delivering\n",
        "content to the users over the internet, however there are subscription charges\n",
        "associated with the usage of such platforms such as Prime Video, Netflix, Hot\n",
        "Start, Zee5, Sony Liv etc.\n",
        "\n",
        "But choosing your next movie to watch can still be a daunting task, even if you\n",
        "have access to all the platforms.\n",
        "\n",
        "“MyNextMovie” is a budding startup in the space of recommendations on top\n",
        "of various OTT platforms providing suggestions to its customer base regarding\n",
        "their next movie.\n",
        "\n",
        "Their major business is to create a recommendation layer on top of these OTT\n",
        "platformsso that they can make suitable recommendationsto their customers,\n",
        "However,since they are in research mode right now, they would want to\n",
        "experiment with open source data first to understand the depth of the models\n",
        "which can be delivered by them.\n",
        "\n",
        "The data for this exercise is open-source data which has been collected and\n",
        "made available from the MovieLens web site (http://movielens.org), a part of\n",
        "GroupLens\n",
        "\n",
        "Research The data sets were collected over various periods of time, depending\n",
        "on the size of the set.\n",
        "\n",
        "You have recently joined as a Data Scientist at “MyNextMovie” and plan to\n",
        "help the existing team to set up a recommendation platform.\n",
        "\n",
        "https://www.kaggle.com/code/ayushimishra2809/movie-recommendation-system/data\n",
        "?select=ratings.csv\n",
        "\n"
      ],
      "metadata": {
        "id": "ud4NXCVwUTWp"
      }
    },
    {
      "cell_type": "markdown",
      "source": [
        "Objective\n",
        "Create a popularity based recommender system at a genre level. User will\n",
        "input a genre (g), minimum ratings threshold (t) for a movie and no. of\n",
        "recommendations(N) for which it should be recommended top N movies\n",
        "which are most popular within that genre (g) ordered by ratingsin descending\n",
        "order where each movie has at least (t) reviews.\n",
        "\n",
        "Example:\n",
        "\n",
        "**Input:**\n",
        "\n",
        "**Genre (g) :** Comedy\n",
        "\n",
        "**Minimum reviews threshold (t) :** 100\n",
        "\n",
        "**Num recommendations (N) :** 5\n",
        "\n",
        "**Output:**\n",
        "\n",
        "\n",
        "Create a content-based recommendersystem which recommendstop N\n",
        "movies based on similar movie(m) genres.\n",
        "\n",
        "Create a collaborative based recommendersystem which recommendstop N\n",
        "movies based on “K” similar users for a target user “u”\n",
        "\n"
      ],
      "metadata": {
        "id": "gwZj1FcxVO4s"
      }
    },
    {
      "cell_type": "markdown",
      "source": [
        "# **Data Description**\n",
        "\n",
        "The data consists of 105339 ratings applied to over 10329 movies. The average\n",
        "rating is 3.5 and minimum and maximum rating is 0.5 and 5 respectively. There\n",
        "are 668 users who have given their ratings for 149532 movies.\n",
        "\n",
        "There are two data files which are provided:\n",
        "\n",
        "**Movies.csv**\n",
        "movieId: ID assigned to a movie.\n",
        "\n",
        "title: Title of a movie\n",
        "\n",
        "genres: pipe separated list of movie genres.\n",
        "\n",
        "**Ratings.csv**\n",
        "\n",
        "userId: ID assigned to a user\n",
        "\n",
        "movieId: ID assigned to a movie\n",
        "\n",
        "rating: rating by a user to a movie\n",
        "\n",
        "Timestamp: time at which the rating was provided."
      ],
      "metadata": {
        "id": "0xoBUnBYWOZS"
      }
    },
    {
      "cell_type": "markdown",
      "source": [
        "# **Steps and Tasks**\n",
        "\n",
        "Import libraries and load datase\n",
        "\n",
        "**Exploratory Data Analysis including:**\n",
        "\n",
        "Understanding of distribution of the features available.\n",
        "\n",
        "Finding unique users and movies.\n",
        "\n",
        "Average rating and Total movies at genre level.\n",
        "\n",
        "Unique genres considered.\n",
        "\n",
        "Design the 3 different types of recommendation modules as mentioned in\n",
        "objectives.\n",
        "\n",
        "Additional/Optional: Create a GUI interface using Python libraries\n",
        "(ipywidgets etc.) to play around with the recommendation modules"
      ],
      "metadata": {
        "id": "wZp0bA80WoaS"
      }
    },
    {
      "cell_type": "code",
      "source": [
        "import pandas as pd\n",
        "import numpy as np\n",
        "# Load the datasets\n",
        "movies = pd.read_csv('movies.csv')\n",
        "ratings = pd.read_csv('ratings.csv')\n",
        "\n",
        "# Display the first few rows of each DataFrame\n",
        "print(movies.head())\n",
        "print(ratings.head())"
      ],
      "metadata": {
        "colab": {
          "base_uri": "https://localhost:8080/"
        },
        "id": "FIG1xmjzXesX",
        "outputId": "772091d0-9d89-429c-d5a4-74c7683ef82b"
      },
      "execution_count": null,
      "outputs": [
        {
          "output_type": "stream",
          "name": "stdout",
          "text": [
            "   movieId                               title  \\\n",
            "0        1                    Toy Story (1995)   \n",
            "1        2                      Jumanji (1995)   \n",
            "2        3             Grumpier Old Men (1995)   \n",
            "3        4            Waiting to Exhale (1995)   \n",
            "4        5  Father of the Bride Part II (1995)   \n",
            "\n",
            "                                        genres  \n",
            "0  Adventure|Animation|Children|Comedy|Fantasy  \n",
            "1                   Adventure|Children|Fantasy  \n",
            "2                               Comedy|Romance  \n",
            "3                         Comedy|Drama|Romance  \n",
            "4                                       Comedy  \n",
            "   userId  movieId  rating   timestamp\n",
            "0       1       16     4.0  1217897793\n",
            "1       1       24     1.5  1217895807\n",
            "2       1       32     4.0  1217896246\n",
            "3       1       47     4.0  1217896556\n",
            "4       1       50     4.0  1217896523\n"
          ]
        }
      ]
    },
    {
      "cell_type": "markdown",
      "source": [
        "# **Step 2: Exploratory Data Analysis (EDA)**\n",
        "**Understanding Distribution of Features**"
      ],
      "metadata": {
        "id": "dBdy2KcppGxS"
      }
    },
    {
      "cell_type": "code",
      "source": [
        "# Check the shape of the datasets\n",
        "print(f'Movies shape: {movies.shape}')\n",
        "print(f'Ratings shape: {ratings.shape}')"
      ],
      "metadata": {
        "colab": {
          "base_uri": "https://localhost:8080/"
        },
        "id": "5F9zBqkXX3Yj",
        "outputId": "015ed5db-ad4e-4ceb-c723-169c886158c3"
      },
      "execution_count": null,
      "outputs": [
        {
          "output_type": "stream",
          "name": "stdout",
          "text": [
            "Movies shape: (10329, 3)\n",
            "Ratings shape: (105339, 4)\n"
          ]
        }
      ]
    },
    {
      "cell_type": "code",
      "source": [
        "# Check for unique users and movies\n",
        "unique_users = ratings['userId'].nunique()\n",
        "unique_movies = movies['movieId'].nunique()\n",
        "print(f'Unique Users: {unique_users}, Unique Movies: {unique_movies}')"
      ],
      "metadata": {
        "colab": {
          "base_uri": "https://localhost:8080/"
        },
        "id": "kTgIKV7QYCFZ",
        "outputId": "b63298ce-25fb-43d1-883f-4535ff743875"
      },
      "execution_count": null,
      "outputs": [
        {
          "output_type": "stream",
          "name": "stdout",
          "text": [
            "Unique Users: 668, Unique Movies: 10329\n"
          ]
        }
      ]
    },
    {
      "cell_type": "markdown",
      "source": [
        "# **Demographic Filtering -**\n",
        "Before getting started with this -\n",
        "\n",
        "we need a metric to score or rate a movie\n",
        "\n",
        "Calculate the score for every movie\n",
        "\n",
        "Sort the scores and recommend the best rated movie to the users.\n",
        "\n",
        "We can use the average ratings of the movie as the score but using this won't be fair enough since a movie with 8.9 average rating and only 3 votes cannot be considered better than the movie with 7.8 as as average rating but 40 votes.\n",
        "\n",
        "So, I'll be using IMDB's weighted rating (wr) which is given as :-![Weighted Rating.png](data:image/png;base64,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)\n",
        "\n",
        "where,\n",
        "\n",
        "v is the number of votes for the movie;\n",
        "\n",
        "m is the minimum votes required to be listed in the chart;\n",
        "\n",
        "R is the average rating of the movie; And\n",
        "\n",
        "C is the mean vote across the whole report\n",
        "\n",
        "We already have v(vote_count) and R (vote_average) and C can be calculated as"
      ],
      "metadata": {
        "id": "6_4pSTtQZO0W"
      }
    },
    {
      "cell_type": "code",
      "source": [
        "# Average rating and total movies at genre level\n",
        "average_rating = ratings['rating'].mean()\n",
        "total_movies = movies.shape[0]\n",
        "print(f'Average Rating: {average_rating}, Total Movies: {total_movies}')"
      ],
      "metadata": {
        "colab": {
          "base_uri": "https://localhost:8080/"
        },
        "id": "SPeAoLp3ZBJ7",
        "outputId": "ae36838d-bf05-419b-f880-3fa620f44c5a"
      },
      "execution_count": null,
      "outputs": [
        {
          "output_type": "stream",
          "name": "stdout",
          "text": [
            "Average Rating: 3.5168503593161127, Total Movies: 10329\n"
          ]
        }
      ]
    },
    {
      "cell_type": "markdown",
      "source": [
        "So, the mean rating for all the movies is approx 3.5 on a scale of 5.The next step is to determine an appropriate value for m, the minimum votes required to be listed in the chart. We will use 90th percentile as our cutoff. In other words, for a movie to feature in the charts, it must have more votes than at least 90% of the movies in the list."
      ],
      "metadata": {
        "id": "OyoK6X2-h3sV"
      }
    },
    {
      "cell_type": "code",
      "source": [
        "# Unique genres considered\n",
        "unique_genres = set('|'.join(movies['genres']).split('|'))\n",
        "print(f'Unique Genres: {len(unique_genres)}')"
      ],
      "metadata": {
        "colab": {
          "base_uri": "https://localhost:8080/"
        },
        "id": "zAq0Zu6NhWJ1",
        "outputId": "e50e6c40-1009-4454-eec7-c85edfb2c6e5"
      },
      "execution_count": null,
      "outputs": [
        {
          "output_type": "stream",
          "name": "stdout",
          "text": [
            "Unique Genres: 20\n"
          ]
        }
      ]
    },
    {
      "cell_type": "markdown",
      "source": [
        "# Average Rating and Total Movies at Genre Level"
      ],
      "metadata": {
        "id": "jGjqbaBNqSKY"
      }
    },
    {
      "cell_type": "code",
      "source": [
        "# Split genres into separate rows for analysis\n",
        "genre_counts = movies['genres'].str.get_dummies(sep='|').sum()\n",
        "average_rating_per_genre = ratings.merge(movies, on='movieId').groupby('genres')['rating'].mean()\n",
        "total_movies_per_genre = ratings.merge(movies, on='movieId').groupby('genres')['movieId'].count()\n",
        "\n",
        "genre_summary = pd.DataFrame({\n",
        "    'Average Rating': average_rating_per_genre,\n",
        "    'Total Movies': total_movies_per_genre,\n",
        "})\n",
        "\n",
        "print(genre_summary)"
      ],
      "metadata": {
        "colab": {
          "base_uri": "https://localhost:8080/"
        },
        "id": "sV52cVEdp_4a",
        "outputId": "2f15e533-7a35-4102-8433-e4c2f131b220"
      },
      "execution_count": null,
      "outputs": [
        {
          "output_type": "stream",
          "name": "stdout",
          "text": [
            "                                     Average Rating  Total Movies\n",
            "genres                                                           \n",
            "(no genres listed)                         3.071429             7\n",
            "Action                                     2.836406           217\n",
            "Action|Adventure                           3.739804           613\n",
            "Action|Adventure|Animation                 4.125000            12\n",
            "Action|Adventure|Animation|Children        3.550000            10\n",
            "...                                             ...           ...\n",
            "Sci-Fi|Thriller|IMAX                       3.500000             6\n",
            "Thriller                                   3.473430           828\n",
            "Thriller|War                               3.500000             7\n",
            "War                                        3.613636            22\n",
            "Western                                    3.500000           201\n",
            "\n",
            "[938 rows x 2 columns]\n"
          ]
        }
      ]
    },
    {
      "cell_type": "markdown",
      "source": [
        "# **Step 3: Design the Recommendation Module**\n",
        "\n",
        "**Popularity-Based Recommendation Function**"
      ],
      "metadata": {
        "id": "h8rEvw63qgZb"
      }
    },
    {
      "cell_type": "code",
      "source": [
        "def recommend_movies(genre, min_ratings_threshold, n_recommendations):\n",
        "    # Merge ratings with movies to filter by genre\n",
        "    genre_filtered = ratings.merge(movies[movies['genres'].str.contains(genre)], on='movieId')\n",
        "  # Group by movieId to get average rating and count of ratings\n",
        "    popularity = genre_filtered.groupby('movieId').agg(\n",
        "        average_rating=('rating', 'mean'),\n",
        "        rating_count=('rating', 'count')\n",
        "    ).reset_index()\n",
        "\n",
        "    # Filter based on minimum ratings threshold\n",
        "    popular_movies = popularity[popularity['rating_count'] >= min_ratings_threshold]\n",
        "    # Sort by average rating in descending order and get top N recommendations\n",
        "    recommendations = popular_movies.sort_values(by='average_rating', ascending=False).head(n_recommendations)\n",
        "\n",
        "    # Merge with movies to get titles\n",
        "    recommended_movies = recommendations.merge(movies[['movieId', 'title']], on='movieId')\n",
        "\n",
        "    return recommended_movies[['title', 'average_rating', 'rating_count']]\n",
        "\n",
        "# Example usage:\n",
        "genre_input = \"Action\"  # User input for genre\n",
        "min_ratings_input = 50  # User input for minimum ratings threshold\n",
        "n_recommendations_input = 5  # User input for number of recommendations\n",
        "\n",
        "recommended_movies = recommend_movies(genre_input, min_ratings_input, n_recommendations_input)\n",
        "print(recommended_movies)"
      ],
      "metadata": {
        "colab": {
          "base_uri": "https://localhost:8080/"
        },
        "id": "OyZ8-w79qVxq",
        "outputId": "c1b1d4ce-d425-4907-f4d6-52e92de8178a"
      },
      "execution_count": null,
      "outputs": [
        {
          "output_type": "stream",
          "name": "stdout",
          "text": [
            "                                               title  average_rating  \\\n",
            "0           Princess Mononoke (Mononoke-hime) (1997)        4.384615   \n",
            "1                          North by Northwest (1959)        4.273973   \n",
            "2                                 Matrix, The (1999)        4.264368   \n",
            "3  Star Wars: Episode V - The Empire Strikes Back...        4.228070   \n",
            "4        Seven Samurai (Shichinin no samurai) (1954)        4.217742   \n",
            "\n",
            "   rating_count  \n",
            "0            52  \n",
            "1            73  \n",
            "2           261  \n",
            "3           228  \n",
            "4            62  \n"
          ]
        }
      ]
    },
    {
      "cell_type": "markdown",
      "source": [
        "# Additional/Optional: Create a GUI Interface\n",
        "\n",
        "For creating a simple GUI interface, you can use libraries like ipywidgets or tkinter. Here’s a basic example using ipywidgets:"
      ],
      "metadata": {
        "id": "fMt8LBwsrTeG"
      }
    },
    {
      "cell_type": "code",
      "source": [
        "import ipywidgets as widgets\n",
        "from IPython.display import display\n",
        "\n",
        "# Define widgets for user input\n",
        "genre_widget = widgets.Text(value='Action', description='Genre:')\n",
        "min_ratings_widget = widgets.IntSlider(value=50, min=1, max=1000, description='Min Ratings:')\n",
        "n_recommendations_widget = widgets.IntSlider(value=5, min=1, max=20, description='Recommendations:')\n",
        "\n",
        "# Display widgets\n",
        "display(genre_widget, min_ratings_widget, n_recommendations_widget)\n",
        "\n",
        "def on_button_click(b):\n",
        "    recommendations = recommend_movies(genre_widget.value, min_ratings_widget.value, n_recommendations_widget.value)\n",
        "    print(recommendations)\n",
        "\n",
        "button = widgets.Button(description=\"Get Recommendations\")\n",
        "button.on_click(on_button_click)\n",
        "display(button)"
      ],
      "metadata": {
        "colab": {
          "base_uri": "https://localhost:8080/",
          "height": 367,
          "referenced_widgets": [
            "1682e856747d4a2da2102c1b98eb9cf5",
            "816f7d300ace4e40a77fcb460b0904f2",
            "2133e7c3bd05470887c8ad0d94911620",
            "50b009b812fe49599e89a0ec88d031d9",
            "0654a9f9f222449ab9c5472d7f00968b",
            "9595d4e2150e415998b646ae951f73bb",
            "ad1f0aae52944c0c8b5dfe328236f0b3",
            "02a2cbfb00014804a6a872b2647d15b7",
            "b5db1bb0bb664ee7b5df802d0fea3af8",
            "57c767db10044b128480456b581ff16b",
            "f24600f4d16d40d8a979b8e4dc450574",
            "a89e20f7f7374f1ab45d1ff07a9d46d3"
          ]
        },
        "id": "U0bYGH_WrYUL",
        "outputId": "13db31f1-d06b-415d-9e4a-79c236f81096"
      },
      "execution_count": null,
      "outputs": [
        {
          "output_type": "display_data",
          "data": {
            "text/plain": [
              "Text(value='Action', description='Genre:')"
            ],
            "application/vnd.jupyter.widget-view+json": {
              "version_major": 2,
              "version_minor": 0,
              "model_id": "1682e856747d4a2da2102c1b98eb9cf5"
            }
          },
          "metadata": {}
        },
        {
          "output_type": "display_data",
          "data": {
            "text/plain": [
              "IntSlider(value=50, description='Min Ratings:', max=1000, min=1)"
            ],
            "application/vnd.jupyter.widget-view+json": {
              "version_major": 2,
              "version_minor": 0,
              "model_id": "50b009b812fe49599e89a0ec88d031d9"
            }
          },
          "metadata": {}
        },
        {
          "output_type": "display_data",
          "data": {
            "text/plain": [
              "IntSlider(value=5, description='Recommendations:', max=20, min=1)"
            ],
            "application/vnd.jupyter.widget-view+json": {
              "version_major": 2,
              "version_minor": 0,
              "model_id": "ad1f0aae52944c0c8b5dfe328236f0b3"
            }
          },
          "metadata": {}
        },
        {
          "output_type": "display_data",
          "data": {
            "text/plain": [
              "Button(description='Get Recommendations', style=ButtonStyle())"
            ],
            "application/vnd.jupyter.widget-view+json": {
              "version_major": 2,
              "version_minor": 0,
              "model_id": "57c767db10044b128480456b581ff16b"
            }
          },
          "metadata": {}
        },
        {
          "output_type": "stream",
          "name": "stdout",
          "text": [
            "                                               title  average_rating  \\\n",
            "0           Princess Mononoke (Mononoke-hime) (1997)        4.384615   \n",
            "1                          North by Northwest (1959)        4.273973   \n",
            "2                                 Matrix, The (1999)        4.264368   \n",
            "3  Star Wars: Episode V - The Empire Strikes Back...        4.228070   \n",
            "4        Seven Samurai (Shichinin no samurai) (1954)        4.217742   \n",
            "\n",
            "   rating_count  \n",
            "0            52  \n",
            "1            73  \n",
            "2           261  \n",
            "3           228  \n",
            "4            62  \n"
          ]
        }
      ]
    }
  ]
}